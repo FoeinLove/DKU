{
 "cells": [
  {
   "cell_type": "code",
   "execution_count": 1,
   "metadata": {},
   "outputs": [],
   "source": [
    "import pandas as pd"
   ]
  },
  {
   "cell_type": "code",
   "execution_count": 2,
   "metadata": {},
   "outputs": [],
   "source": [
    "d11 = pd.read_stata('Data_set_and_relevant_documents/CHARLS_Age_Prediction_2011_Master_age.dta')\n",
    "d15 = pd.read_stata('Data_set_and_relevant_documents/CHARLS_Age_Prediction_2015_Master_age.dta')"
   ]
  },
  {
   "cell_type": "code",
   "execution_count": 3,
   "metadata": {},
   "outputs": [
    {
     "data": {
      "text/plain": [
       "((10137, 82), (13265, 80))"
      ]
     },
     "execution_count": 3,
     "metadata": {},
     "output_type": "execute_result"
    }
   ],
   "source": [
    "d11.shape,d15.shape"
   ]
  },
  {
   "cell_type": "code",
   "execution_count": 8,
   "metadata": {},
   "outputs": [
    {
     "data": {
      "text/plain": [
       "Index(['ID', 'householdID', 'sysbp', 'diabp', 'pulse', 'peakflow', 'grip',\n",
       "       'walktime', 'bloodweight', 'qc1_va003', 'qc1_vb002', 'qc1_vb006',\n",
       "       'qc1_vb009', 'newbun', 'newglu', 'newcrea', 'newcho', 'newtg', 'newhdl',\n",
       "       'newldl', 'newcrp', 'newhba1c', 'newua', 'qc1_vb005', 'qc1_vb004',\n",
       "       'cystatinc', 'r1agey', 'ragender', 'raeduc_c', 'r1mstat', 'h1rural',\n",
       "       'r1shlta', 'r1dressa', 'r1batha', 'r1eata', 'r1beda', 'r1toilta',\n",
       "       'r1urina', 'r1moneya', 'r1medsa', 'r1shopa', 'r1mealsa', 'r1housewka',\n",
       "       'r1joga', 'r1walk1kma', 'r1walk100a', 'r1chaira', 'r1climsa',\n",
       "       'r1stoopa', 'r1lifta', 'r1dimea', 'r1armsa', 'r1cesd10', 'r1hibpe',\n",
       "       'r1diabe', 'r1cancre', 'r1lunge', 'r1hearte', 'r1stroke', 'r1psyche',\n",
       "       'r1arthre', 'r1dyslipe', 'r1livere', 'r1kidneye', 'r1digeste',\n",
       "       'r1asthmae', 'r1memrye', 'r1bmi', 'r1height', 'r1weight', 'r1slfmem',\n",
       "       'r1imrc', 'r1dlrc', 'r1ser7', 'r1orient', 'r1draw', 'r1tr20', 'birth11',\n",
       "       'birthm11', 'iyear11', 'imonth11', 'age11'],\n",
       "      dtype='object')"
      ]
     },
     "execution_count": 8,
     "metadata": {},
     "output_type": "execute_result"
    }
   ],
   "source": [
    "d11.columns"
   ]
  },
  {
   "cell_type": "code",
   "execution_count": 9,
   "metadata": {},
   "outputs": [
    {
     "data": {
      "text/plain": [
       "Index(['ID', 'householdID', 'sysbp', 'diabp', 'pulse', 'peakflow', 'grip',\n",
       "       'walktime', 'bl_wbc', 'bl_hgb', 'bl_hct', 'bl_mcv', 'bl_plt', 'bl_tg',\n",
       "       'bl_crea', 'bl_bun', 'bl_hdl', 'bl_ldl', 'bl_cho', 'bl_glu', 'bl_ua',\n",
       "       'bl_cysc', 'bl_crp', 'bl_hbalc', 'r4agey', 'ragender', 'raeduc_c',\n",
       "       'r4mstat', 'h4rural', 'r4shlta', 'r4dressa', 'r4batha', 'r4eata',\n",
       "       'r4beda', 'r4toilta', 'r4urina', 'r4moneya', 'r4medsa', 'r4shopa',\n",
       "       'r4mealsa', 'r4housewka', 'r4joga', 'r4walk1kma', 'r4walk100a',\n",
       "       'r4chaira', 'r4climsa', 'r4stoopa', 'r4lifta', 'r4dimea', 'r4armsa',\n",
       "       'r4cesd10', 'r4hibpe', 'r4diabe', 'r4cancre', 'r4lunge', 'r4hearte',\n",
       "       'r4stroke', 'r4psyche', 'r4arthre', 'r4dyslipe', 'r4livere',\n",
       "       'r4kidneye', 'r4digeste', 'r4asthmae', 'r4memrye', 'r4bmi', 'r4height',\n",
       "       'r4weight', 'r4slfmem', 'r4imrc', 'r4dlrc', 'r4ser7', 'r4orient',\n",
       "       'r4draw', 'r4tr20', 'birth11', 'birthm11', 'iyear15', 'imonth15',\n",
       "       'age15'],\n",
       "      dtype='object')"
      ]
     },
     "execution_count": 9,
     "metadata": {},
     "output_type": "execute_result"
    }
   ],
   "source": [
    "d15.columns"
   ]
  },
  {
   "cell_type": "code",
   "execution_count": 11,
   "metadata": {},
   "outputs": [
    {
     "data": {
      "text/plain": [
       "['ID',\n",
       " 'householdID',\n",
       " 'sysbp',\n",
       " 'diabp',\n",
       " 'pulse',\n",
       " 'peakflow',\n",
       " 'grip',\n",
       " 'walktime',\n",
       " 'bloodweight',\n",
       " 'qc1_va003',\n",
       " 'qc1_vb002',\n",
       " 'qc1_vb006',\n",
       " 'qc1_vb009',\n",
       " 'newbun',\n",
       " 'newglu',\n",
       " 'newcrea',\n",
       " 'newcho',\n",
       " 'newtg',\n",
       " 'newhdl',\n",
       " 'newldl',\n",
       " 'newcrp',\n",
       " 'newhba1c',\n",
       " 'newua',\n",
       " 'qc1_vb005',\n",
       " 'qc1_vb004',\n",
       " 'cystatinc',\n",
       " 'r1agey',\n",
       " 'ragender',\n",
       " 'raeduc_c',\n",
       " 'r1mstat',\n",
       " 'h1rural',\n",
       " 'r1shlta',\n",
       " 'r1dressa',\n",
       " 'r1batha',\n",
       " 'r1eata',\n",
       " 'r1beda',\n",
       " 'r1toilta',\n",
       " 'r1urina',\n",
       " 'r1moneya',\n",
       " 'r1medsa',\n",
       " 'r1shopa',\n",
       " 'r1mealsa',\n",
       " 'r1housewka',\n",
       " 'r1joga',\n",
       " 'r1walk1kma',\n",
       " 'r1walk100a',\n",
       " 'r1chaira',\n",
       " 'r1climsa',\n",
       " 'r1stoopa',\n",
       " 'r1lifta',\n",
       " 'r1dimea',\n",
       " 'r1armsa',\n",
       " 'r1cesd10',\n",
       " 'r1hibpe',\n",
       " 'r1diabe',\n",
       " 'r1cancre',\n",
       " 'r1lunge',\n",
       " 'r1hearte',\n",
       " 'r1stroke',\n",
       " 'r1psyche',\n",
       " 'r1arthre',\n",
       " 'r1dyslipe',\n",
       " 'r1livere',\n",
       " 'r1kidneye',\n",
       " 'r1digeste',\n",
       " 'r1asthmae',\n",
       " 'r1memrye',\n",
       " 'r1bmi',\n",
       " 'r1height',\n",
       " 'r1weight',\n",
       " 'r1slfmem',\n",
       " 'r1imrc',\n",
       " 'r1dlrc',\n",
       " 'r1ser7',\n",
       " 'r1orient',\n",
       " 'r1draw',\n",
       " 'r1tr20',\n",
       " 'birth11',\n",
       " 'birthm11',\n",
       " 'iyear11',\n",
       " 'imonth11',\n",
       " 'age11']"
      ]
     },
     "execution_count": 11,
     "metadata": {},
     "output_type": "execute_result"
    }
   ],
   "source": [
    "list(d11.columns)"
   ]
  },
  {
   "cell_type": "code",
   "execution_count": 12,
   "metadata": {},
   "outputs": [
    {
     "data": {
      "text/plain": [
       "['ID',\n",
       " 'householdID',\n",
       " 'sysbp',\n",
       " 'diabp',\n",
       " 'pulse',\n",
       " 'peakflow',\n",
       " 'grip',\n",
       " 'walktime',\n",
       " 'bl_wbc',\n",
       " 'bl_hgb',\n",
       " 'bl_hct',\n",
       " 'bl_mcv',\n",
       " 'bl_plt',\n",
       " 'bl_tg',\n",
       " 'bl_crea',\n",
       " 'bl_bun',\n",
       " 'bl_hdl',\n",
       " 'bl_ldl',\n",
       " 'bl_cho',\n",
       " 'bl_glu',\n",
       " 'bl_ua',\n",
       " 'bl_cysc',\n",
       " 'bl_crp',\n",
       " 'bl_hbalc',\n",
       " 'r4agey',\n",
       " 'ragender',\n",
       " 'raeduc_c',\n",
       " 'r4mstat',\n",
       " 'h4rural',\n",
       " 'r4shlta',\n",
       " 'r4dressa',\n",
       " 'r4batha',\n",
       " 'r4eata',\n",
       " 'r4beda',\n",
       " 'r4toilta',\n",
       " 'r4urina',\n",
       " 'r4moneya',\n",
       " 'r4medsa',\n",
       " 'r4shopa',\n",
       " 'r4mealsa',\n",
       " 'r4housewka',\n",
       " 'r4joga',\n",
       " 'r4walk1kma',\n",
       " 'r4walk100a',\n",
       " 'r4chaira',\n",
       " 'r4climsa',\n",
       " 'r4stoopa',\n",
       " 'r4lifta',\n",
       " 'r4dimea',\n",
       " 'r4armsa',\n",
       " 'r4cesd10',\n",
       " 'r4hibpe',\n",
       " 'r4diabe',\n",
       " 'r4cancre',\n",
       " 'r4lunge',\n",
       " 'r4hearte',\n",
       " 'r4stroke',\n",
       " 'r4psyche',\n",
       " 'r4arthre',\n",
       " 'r4dyslipe',\n",
       " 'r4livere',\n",
       " 'r4kidneye',\n",
       " 'r4digeste',\n",
       " 'r4asthmae',\n",
       " 'r4memrye',\n",
       " 'r4bmi',\n",
       " 'r4height',\n",
       " 'r4weight',\n",
       " 'r4slfmem',\n",
       " 'r4imrc',\n",
       " 'r4dlrc',\n",
       " 'r4ser7',\n",
       " 'r4orient',\n",
       " 'r4draw',\n",
       " 'r4tr20',\n",
       " 'birth11',\n",
       " 'birthm11',\n",
       " 'iyear15',\n",
       " 'imonth15',\n",
       " 'age15']"
      ]
     },
     "execution_count": 12,
     "metadata": {},
     "output_type": "execute_result"
    }
   ],
   "source": [
    "list(d15.columns)"
   ]
  },
  {
   "cell_type": "code",
   "execution_count": null,
   "metadata": {},
   "outputs": [],
   "source": [
    "list(d11) "
   ]
  },
  {
   "cell_type": "code",
   "execution_count": 16,
   "metadata": {},
   "outputs": [
    {
     "data": {
      "text/plain": [
       "{'ID',\n",
       " 'birth11',\n",
       " 'birthm11',\n",
       " 'diabp',\n",
       " 'grip',\n",
       " 'householdID',\n",
       " 'peakflow',\n",
       " 'pulse',\n",
       " 'raeduc_c',\n",
       " 'ragender',\n",
       " 'sysbp',\n",
       " 'walktime'}"
      ]
     },
     "execution_count": 16,
     "metadata": {},
     "output_type": "execute_result"
    }
   ],
   "source": [
    "set(d11.columns)&set(d15.columns)"
   ]
  },
  {
   "cell_type": "code",
   "execution_count": 17,
   "metadata": {},
   "outputs": [
    {
     "name": "stdout",
     "output_type": "stream",
     "text": [
      "{'r1height', 'r4lifta', 'r4dressa', 'r4hearte', 'r1toilta', 'r4livere', 'r1mealsa', 'newua', 'r1shopa', 'r1walk100a', 'qc1_vb006', 'r1slfmem', 'r1hibpe', 'cystatinc', 'r4stoopa', 'r4housewka', 'qc1_vb002', 'imonth15', 'bl_cho', 'r1urina', 'r1cesd10', 'r1shlta', 'newcrp', 'r1cancre', 'r4cancre', 'r1dressa', 'r1lunge', 'iyear11', 'newbun', 'r4hibpe', 'r4memrye', 'r1stroke', 'r1dimea', 'bl_wbc', 'r1batha', 'r1walk1kma', 'newtg', 'bl_plt', 'r4chaira', 'r4eata', 'r4ser7', 'r1imrc', 'r4mstat', 'newglu', 'r4batha', 'r4asthmae', 'r4mealsa', 'bl_crp', 'r1ser7', 'r4weight', 'newcho', 'r1digeste', 'r4urina', 'r1dyslipe', 'bl_glu', 'r1tr20', 'bl_hbalc', 'r1armsa', 'age11', 'qc1_va003', 'r4joga', 'r1dlrc', 'r1memrye', 'r1orient', 'qc1_vb005', 'r1climsa', 'r4walk100a', 'r4psyche', 'r4diabe', 'qc1_vb009', 'r4agey', 'bl_mcv', 'r4digeste', 'r1moneya', 'r1medsa', 'r1chaira', 'imonth11', 'bl_crea', 'r4beda', 'r1weight', 'iyear15', 'r4dimea', 'r4slfmem', 'bl_tg', 'r1asthmae', 'r4height', 'bl_bun', 'newldl', 'r4shlta', 'r1eata', 'r1diabe', 'r1housewka', 'r4walk1kma', 'r1mstat', 'bl_ua', 'r4bmi', 'newcrea', 'r4dlrc', 'bl_cysc', 'r4climsa', 'r1hearte', 'qc1_vb004', 'bl_hct', 'r4armsa', 'r1bmi', 'r4imrc', 'r1arthre', 'r4arthre', 'bl_hdl', 'bl_hgb', 'age15', 'bloodweight', 'newhba1c', 'r1draw', 'r4draw', 'r4stroke', 'r1stoopa', 'h1rural', 'r4tr20', 'newhdl', 'r1livere', 'r4kidneye', 'r1agey', 'r4cesd10', 'r4dyslipe', 'r4medsa', 'r1lifta', 'r4shopa', 'r1joga', 'r4lunge', 'h4rural', 'r1kidneye', 'r4orient', 'r4moneya', 'r1psyche', 'r4toilta', 'r1beda', 'bl_ldl'}\n"
     ]
    }
   ],
   "source": [
    "print(set(d11.columns)^set(d15.columns))"
   ]
  },
  {
   "cell_type": "code",
   "execution_count": null,
   "metadata": {},
   "outputs": [],
   "source": []
  }
 ],
 "metadata": {
  "kernelspec": {
   "display_name": "Python 3",
   "language": "python",
   "name": "python3"
  },
  "language_info": {
   "codemirror_mode": {
    "name": "ipython",
    "version": 3
   },
   "file_extension": ".py",
   "mimetype": "text/x-python",
   "name": "python",
   "nbconvert_exporter": "python",
   "pygments_lexer": "ipython3",
   "version": "3.8.3"
  }
 },
 "nbformat": 4,
 "nbformat_minor": 4
}
