{
 "cells": [
  {
   "cell_type": "markdown",
   "id": "b417cb86",
   "metadata": {},
   "source": [
    "# Classification"
   ]
  },
  {
   "cell_type": "code",
   "execution_count": 2,
   "id": "d5e72206",
   "metadata": {},
   "outputs": [
    {
     "name": "stdout",
     "output_type": "stream",
     "text": [
      "Downloading data from https://storage.googleapis.com/tf-datasets/titanic/train.csv\n",
      "32768/30874 [===============================] - 0s 1us/step\n",
      "Downloading data from https://storage.googleapis.com/tf-datasets/titanic/eval.csv\n",
      "16384/13049 [=====================================] - 0s 1us/step\n"
     ]
    }
   ],
   "source": [
    "TRAIN_DATA_URL = \"https://storage.googleapis.com/tf-datasets/titanic/train.csv\"\n",
    "TEST_DATA_URL = \"https://storage.googleapis.com/tf-datasets/titanic/eval.csv\"\n",
    "\n",
    "train_file_path = tf.keras.utils.get_file(\"train.csv\", TRAIN_DATA_URL)\n",
    "test_file_path = tf.keras.utils.get_file(\"eval.csv\", TEST_DATA_URL)"
   ]
  },
  {
   "cell_type": "code",
   "execution_count": 3,
   "id": "6d026743",
   "metadata": {},
   "outputs": [
    {
     "name": "stdout",
     "output_type": "stream",
     "text": [
      "Trial 3 Complete [00h 00m 01s]\n",
      "val_accuracy: 0.8608695864677429\n",
      "\n",
      "Best val_accuracy So Far: 0.8608695864677429\n",
      "Total elapsed time: 00h 00m 04s\n",
      "INFO:tensorflow:Oracle triggered exit\n",
      "Epoch 1/10\n",
      "20/20 [==============================] - 0s 632us/step - loss: 0.6386 - accuracy: 0.6571\n",
      "Epoch 2/10\n",
      "20/20 [==============================] - 0s 632us/step - loss: 0.5583 - accuracy: 0.7656\n",
      "Epoch 3/10\n",
      "20/20 [==============================] - 0s 632us/step - loss: 0.5071 - accuracy: 0.8038\n",
      "Epoch 4/10\n",
      "20/20 [==============================] - 0s 632us/step - loss: 0.4727 - accuracy: 0.8214\n",
      "Epoch 5/10\n",
      "20/20 [==============================] - 0s 632us/step - loss: 0.4493 - accuracy: 0.8230\n",
      "Epoch 6/10\n",
      "20/20 [==============================] - 0s 632us/step - loss: 0.4332 - accuracy: 0.8246\n",
      "Epoch 7/10\n",
      "20/20 [==============================] - 0s 632us/step - loss: 0.4221 - accuracy: 0.8278\n",
      "Epoch 8/10\n",
      "20/20 [==============================] - 0s 632us/step - loss: 0.4143 - accuracy: 0.8341\n",
      "Epoch 9/10\n",
      "20/20 [==============================] - 0s 632us/step - loss: 0.4087 - accuracy: 0.8325\n",
      "Epoch 10/10\n",
      "20/20 [==============================] - 0s 632us/step - loss: 0.4043 - accuracy: 0.8325\n",
      "INFO:tensorflow:Assets written to: .\\structured_data_classifier\\best_model\\assets\n",
      "9/9 [==============================] - 0s 750us/step\n",
      "9/9 [==============================] - 0s 750us/step - loss: 0.4408 - accuracy: 0.7992\n",
      "[0.44083935022354126, 0.7992424368858337]\n"
     ]
    }
   ],
   "source": [
    "# Initialize the structured data classifier.\n",
    "clf = ak.StructuredDataClassifier(\n",
    "    overwrite=True, max_trials=3\n",
    ")  # It tries 3 different models.\n",
    "# Feed the structured data classifier with training data.\n",
    "clf.fit(\n",
    "    # The path to the train.csv file.\n",
    "    train_file_path,\n",
    "    # The name of the label column.\n",
    "    \"survived\",\n",
    "    epochs=10,\n",
    ")\n",
    "# Predict with the best model.\n",
    "predicted_y = clf.predict(test_file_path)\n",
    "# Evaluate the best model with testing data.\n",
    "print(clf.evaluate(test_file_path, \"survived\"))"
   ]
  },
  {
   "cell_type": "markdown",
   "id": "6a5a38c6",
   "metadata": {},
   "source": [
    "## Regression"
   ]
  },
  {
   "cell_type": "code",
   "execution_count": 4,
   "id": "4183e8e9",
   "metadata": {},
   "outputs": [],
   "source": [
    "import numpy as np\n",
    "import pandas as pd\n",
    "import tensorflow as tf\n",
    "from sklearn.datasets import fetch_california_housing\n",
    "\n",
    "import autokeras as ak"
   ]
  },
  {
   "cell_type": "code",
   "execution_count": 5,
   "id": "7b48b778",
   "metadata": {},
   "outputs": [],
   "source": [
    "house_dataset = fetch_california_housing()\n",
    "df = pd.DataFrame(\n",
    "    np.concatenate(\n",
    "        (house_dataset.data, house_dataset.target.reshape(-1, 1)), axis=1\n",
    "    ),\n",
    "    columns=house_dataset.feature_names + [\"Price\"],\n",
    ")\n",
    "train_size = int(df.shape[0] * 0.9)\n",
    "df[:train_size].to_csv(\"train.csv\", index=False)\n",
    "df[train_size:].to_csv(\"eval.csv\", index=False)\n",
    "train_file_path = \"train.csv\"\n",
    "test_file_path = \"eval.csv\""
   ]
  },
  {
   "cell_type": "code",
   "execution_count": 6,
   "id": "2f224d61",
   "metadata": {},
   "outputs": [
    {
     "name": "stdout",
     "output_type": "stream",
     "text": [
      "Trial 3 Complete [00h 00m 04s]\n",
      "val_loss: 0.8325129747390747\n",
      "\n",
      "Best val_loss So Far: 0.8325129747390747\n",
      "Total elapsed time: 00h 00m 14s\n",
      "INFO:tensorflow:Oracle triggered exit\n",
      "Epoch 1/10\n",
      "581/581 [==============================] - 1s 579us/step - loss: 1.0615 - mean_squared_error: 1.0615\n",
      "Epoch 2/10\n",
      "581/581 [==============================] - 0s 576us/step - loss: 0.6023 - mean_squared_error: 0.6023\n",
      "Epoch 3/10\n",
      "581/581 [==============================] - 0s 583us/step - loss: 0.5539 - mean_squared_error: 0.5539\n",
      "Epoch 4/10\n",
      "581/581 [==============================] - 0s 598us/step - loss: 0.5344 - mean_squared_error: 0.5344\n",
      "Epoch 5/10\n",
      "581/581 [==============================] - 0s 581us/step - loss: 0.5222 - mean_squared_error: 0.5222\n",
      "Epoch 6/10\n",
      "581/581 [==============================] - 0s 584us/step - loss: 0.5109 - mean_squared_error: 0.5109\n",
      "Epoch 7/10\n",
      "581/581 [==============================] - 0s 581us/step - loss: 0.5024 - mean_squared_error: 0.5024\n",
      "Epoch 8/10\n",
      "581/581 [==============================] - 0s 583us/step - loss: 0.4956 - mean_squared_error: 0.4956\n",
      "Epoch 9/10\n",
      "581/581 [==============================] - 0s 576us/step - loss: 0.4895 - mean_squared_error: 0.4895\n",
      "Epoch 10/10\n",
      "581/581 [==============================] - 0s 586us/step - loss: 0.4839 - mean_squared_error: 0.4839\n",
      "INFO:tensorflow:Assets written to: .\\structured_data_regressor\\best_model\\assets\n",
      "65/65 [==============================] - 0s 484us/step\n",
      "65/65 [==============================] - 0s 516us/step - loss: 0.5795 - mean_squared_error: 0.5795\n",
      "[0.57949298620224, 0.57949298620224]\n"
     ]
    }
   ],
   "source": [
    "# Initialize the structured data regressor.\n",
    "reg = ak.StructuredDataRegressor(\n",
    "    overwrite=True, max_trials=3\n",
    ")  # It tries 3 different models.\n",
    "# Feed the structured data regressor with training data.\n",
    "reg.fit(\n",
    "    # The path to the train.csv file.\n",
    "    train_file_path,\n",
    "    # The name of the label column.\n",
    "    \"Price\",\n",
    "    epochs=10,\n",
    ")\n",
    "# Predict with the best model.\n",
    "predicted_y = reg.predict(test_file_path)\n",
    "# Evaluate the best model with testing data.\n",
    "print(reg.evaluate(test_file_path, \"Price\"))"
   ]
  }
 ],
 "metadata": {
  "kernelspec": {
   "display_name": "Python 3",
   "language": "python",
   "name": "python3"
  },
  "language_info": {
   "codemirror_mode": {
    "name": "ipython",
    "version": 3
   },
   "file_extension": ".py",
   "mimetype": "text/x-python",
   "name": "python",
   "nbconvert_exporter": "python",
   "pygments_lexer": "ipython3",
   "version": "3.8.3"
  }
 },
 "nbformat": 4,
 "nbformat_minor": 5
}
