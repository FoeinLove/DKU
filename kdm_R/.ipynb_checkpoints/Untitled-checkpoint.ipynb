{
 "cells": [
  {
   "cell_type": "code",
   "execution_count": 12,
   "metadata": {},
   "outputs": [],
   "source": [
    "import pandas as pd"
   ]
  },
  {
   "cell_type": "code",
   "execution_count": 13,
   "metadata": {},
   "outputs": [],
   "source": [
    "d = pd.read_csv('kdm_test.csv')"
   ]
  },
  {
   "cell_type": "code",
   "execution_count": 14,
   "metadata": {},
   "outputs": [
    {
     "data": {
      "text/html": [
       "<div>\n",
       "<style scoped>\n",
       "    .dataframe tbody tr th:only-of-type {\n",
       "        vertical-align: middle;\n",
       "    }\n",
       "\n",
       "    .dataframe tbody tr th {\n",
       "        vertical-align: top;\n",
       "    }\n",
       "\n",
       "    .dataframe thead th {\n",
       "        text-align: right;\n",
       "    }\n",
       "</style>\n",
       "<table border=\"1\" class=\"dataframe\">\n",
       "  <thead>\n",
       "    <tr style=\"text-align: right;\">\n",
       "      <th></th>\n",
       "      <th>ID</th>\n",
       "      <th>householdID</th>\n",
       "      <th>sysbp</th>\n",
       "      <th>diabp</th>\n",
       "      <th>wbc</th>\n",
       "      <th>plt</th>\n",
       "      <th>bun</th>\n",
       "      <th>age</th>\n",
       "      <th>bioage</th>\n",
       "    </tr>\n",
       "  </thead>\n",
       "  <tbody>\n",
       "    <tr>\n",
       "      <th>10022</th>\n",
       "      <td>347763307002</td>\n",
       "      <td>3477633070</td>\n",
       "      <td>165.333328</td>\n",
       "      <td>108.666664</td>\n",
       "      <td>5.4</td>\n",
       "      <td>179.0</td>\n",
       "      <td>12.464450</td>\n",
       "      <td>49.750000</td>\n",
       "      <td>38.250479</td>\n",
       "    </tr>\n",
       "    <tr>\n",
       "      <th>10023</th>\n",
       "      <td>347763310001</td>\n",
       "      <td>3477633100</td>\n",
       "      <td>177.666672</td>\n",
       "      <td>96.333336</td>\n",
       "      <td>4.9</td>\n",
       "      <td>136.0</td>\n",
       "      <td>18.710680</td>\n",
       "      <td>71.333336</td>\n",
       "      <td>49.699145</td>\n",
       "    </tr>\n",
       "    <tr>\n",
       "      <th>10024</th>\n",
       "      <td>347763310002</td>\n",
       "      <td>3477633100</td>\n",
       "      <td>132.333328</td>\n",
       "      <td>70.000000</td>\n",
       "      <td>4.8</td>\n",
       "      <td>197.0</td>\n",
       "      <td>12.716540</td>\n",
       "      <td>61.250000</td>\n",
       "      <td>64.382665</td>\n",
       "    </tr>\n",
       "    <tr>\n",
       "      <th>10025</th>\n",
       "      <td>347763312001</td>\n",
       "      <td>3477633120</td>\n",
       "      <td>116.333336</td>\n",
       "      <td>73.333336</td>\n",
       "      <td>5.6</td>\n",
       "      <td>120.0</td>\n",
       "      <td>17.030081</td>\n",
       "      <td>48.583332</td>\n",
       "      <td>44.668696</td>\n",
       "    </tr>\n",
       "    <tr>\n",
       "      <th>10026</th>\n",
       "      <td>347763312002</td>\n",
       "      <td>3477633120</td>\n",
       "      <td>121.000000</td>\n",
       "      <td>74.000000</td>\n",
       "      <td>7.7</td>\n",
       "      <td>157.0</td>\n",
       "      <td>18.822720</td>\n",
       "      <td>53.833332</td>\n",
       "      <td>48.570074</td>\n",
       "    </tr>\n",
       "  </tbody>\n",
       "</table>\n",
       "</div>"
      ],
      "text/plain": [
       "                 ID  householdID       sysbp       diabp  wbc    plt  \\\n",
       "10022  347763307002   3477633070  165.333328  108.666664  5.4  179.0   \n",
       "10023  347763310001   3477633100  177.666672   96.333336  4.9  136.0   \n",
       "10024  347763310002   3477633100  132.333328   70.000000  4.8  197.0   \n",
       "10025  347763312001   3477633120  116.333336   73.333336  5.6  120.0   \n",
       "10026  347763312002   3477633120  121.000000   74.000000  7.7  157.0   \n",
       "\n",
       "             bun        age     bioage  \n",
       "10022  12.464450  49.750000  38.250479  \n",
       "10023  18.710680  71.333336  49.699145  \n",
       "10024  12.716540  61.250000  64.382665  \n",
       "10025  17.030081  48.583332  44.668696  \n",
       "10026  18.822720  53.833332  48.570074  "
      ]
     },
     "execution_count": 14,
     "metadata": {},
     "output_type": "execute_result"
    }
   ],
   "source": [
    "d.tail()"
   ]
  },
  {
   "cell_type": "code",
   "execution_count": 15,
   "metadata": {},
   "outputs": [
    {
     "data": {
      "text/html": [
       "<div>\n",
       "<style scoped>\n",
       "    .dataframe tbody tr th:only-of-type {\n",
       "        vertical-align: middle;\n",
       "    }\n",
       "\n",
       "    .dataframe tbody tr th {\n",
       "        vertical-align: top;\n",
       "    }\n",
       "\n",
       "    .dataframe thead th {\n",
       "        text-align: right;\n",
       "    }\n",
       "</style>\n",
       "<table border=\"1\" class=\"dataframe\">\n",
       "  <thead>\n",
       "    <tr style=\"text-align: right;\">\n",
       "      <th></th>\n",
       "      <th>ID</th>\n",
       "      <th>householdID</th>\n",
       "      <th>sysbp</th>\n",
       "      <th>diabp</th>\n",
       "      <th>wbc</th>\n",
       "      <th>plt</th>\n",
       "      <th>bun</th>\n",
       "      <th>age</th>\n",
       "      <th>bioage</th>\n",
       "    </tr>\n",
       "  </thead>\n",
       "  <tbody>\n",
       "    <tr>\n",
       "      <th>0</th>\n",
       "      <td>10104101002</td>\n",
       "      <td>101041010</td>\n",
       "      <td>123.666664</td>\n",
       "      <td>67.333336</td>\n",
       "      <td>9.6</td>\n",
       "      <td>198.0</td>\n",
       "      <td>19.43894</td>\n",
       "      <td>48.166668</td>\n",
       "      <td>38.501318</td>\n",
       "    </tr>\n",
       "    <tr>\n",
       "      <th>1</th>\n",
       "      <td>10104102002</td>\n",
       "      <td>101041020</td>\n",
       "      <td>143.333328</td>\n",
       "      <td>74.666664</td>\n",
       "      <td>5.3</td>\n",
       "      <td>179.0</td>\n",
       "      <td>12.35241</td>\n",
       "      <td>59.916668</td>\n",
       "      <td>57.727055</td>\n",
       "    </tr>\n",
       "    <tr>\n",
       "      <th>2</th>\n",
       "      <td>10104104001</td>\n",
       "      <td>101041040</td>\n",
       "      <td>178.666672</td>\n",
       "      <td>87.000000</td>\n",
       "      <td>7.5</td>\n",
       "      <td>271.0</td>\n",
       "      <td>22.09989</td>\n",
       "      <td>60.833332</td>\n",
       "      <td>32.516112</td>\n",
       "    </tr>\n",
       "    <tr>\n",
       "      <th>3</th>\n",
       "      <td>10104105002</td>\n",
       "      <td>101041050</td>\n",
       "      <td>191.000000</td>\n",
       "      <td>106.333336</td>\n",
       "      <td>4.7</td>\n",
       "      <td>208.0</td>\n",
       "      <td>15.62958</td>\n",
       "      <td>67.666664</td>\n",
       "      <td>47.447632</td>\n",
       "    </tr>\n",
       "    <tr>\n",
       "      <th>4</th>\n",
       "      <td>10104107001</td>\n",
       "      <td>101041070</td>\n",
       "      <td>118.333336</td>\n",
       "      <td>54.000000</td>\n",
       "      <td>8.3</td>\n",
       "      <td>290.0</td>\n",
       "      <td>13.22072</td>\n",
       "      <td>79.333336</td>\n",
       "      <td>96.955704</td>\n",
       "    </tr>\n",
       "  </tbody>\n",
       "</table>\n",
       "</div>"
      ],
      "text/plain": [
       "            ID  householdID       sysbp       diabp  wbc    plt       bun  \\\n",
       "0  10104101002    101041010  123.666664   67.333336  9.6  198.0  19.43894   \n",
       "1  10104102002    101041020  143.333328   74.666664  5.3  179.0  12.35241   \n",
       "2  10104104001    101041040  178.666672   87.000000  7.5  271.0  22.09989   \n",
       "3  10104105002    101041050  191.000000  106.333336  4.7  208.0  15.62958   \n",
       "4  10104107001    101041070  118.333336   54.000000  8.3  290.0  13.22072   \n",
       "\n",
       "         age     bioage  \n",
       "0  48.166668  38.501318  \n",
       "1  59.916668  57.727055  \n",
       "2  60.833332  32.516112  \n",
       "3  67.666664  47.447632  \n",
       "4  79.333336  96.955704  "
      ]
     },
     "execution_count": 15,
     "metadata": {},
     "output_type": "execute_result"
    }
   ],
   "source": [
    "d.head()"
   ]
  },
  {
   "cell_type": "code",
   "execution_count": 4,
   "metadata": {},
   "outputs": [
    {
     "data": {
      "text/plain": [
       "(10027, 9)"
      ]
     },
     "execution_count": 4,
     "metadata": {},
     "output_type": "execute_result"
    }
   ],
   "source": [
    "d.shape"
   ]
  },
  {
   "cell_type": "code",
   "execution_count": 5,
   "metadata": {},
   "outputs": [],
   "source": [
    "d['res']= d['bioage']-d['age']\n",
    "d['five'] = d.res.apply(lambda x: 1 if abs(x) <=5 else 0)\n",
    "d['ten'] = d.res.apply(lambda x: 1 if abs(x) <=10 else 0)\n",
    "\n",
    "d = d.reset_index(drop=True)"
   ]
  },
  {
   "cell_type": "code",
   "execution_count": 6,
   "metadata": {},
   "outputs": [
    {
     "data": {
      "text/plain": [
       "0    6519\n",
       "1    3508\n",
       "Name: five, dtype: int64"
      ]
     },
     "execution_count": 6,
     "metadata": {},
     "output_type": "execute_result"
    }
   ],
   "source": [
    "d.five.value_counts()"
   ]
  },
  {
   "cell_type": "code",
   "execution_count": 9,
   "metadata": {},
   "outputs": [
    {
     "data": {
      "text/plain": [
       "0.34985539044579633"
      ]
     },
     "execution_count": 9,
     "metadata": {},
     "output_type": "execute_result"
    }
   ],
   "source": [
    "3508/10027"
   ]
  },
  {
   "cell_type": "code",
   "execution_count": 18,
   "metadata": {},
   "outputs": [
    {
     "data": {
      "text/plain": [
       "1    6379\n",
       "0    3648\n",
       "Name: ten, dtype: int64"
      ]
     },
     "execution_count": 18,
     "metadata": {},
     "output_type": "execute_result"
    }
   ],
   "source": [
    "d.ten.value_counts()"
   ]
  },
  {
   "cell_type": "code",
   "execution_count": 11,
   "metadata": {},
   "outputs": [
    {
     "data": {
      "text/plain": [
       "0.6361823077690236"
      ]
     },
     "execution_count": 11,
     "metadata": {},
     "output_type": "execute_result"
    }
   ],
   "source": [
    "6379/10027"
   ]
  },
  {
   "cell_type": "code",
   "execution_count": null,
   "metadata": {},
   "outputs": [],
   "source": []
  },
  {
   "cell_type": "code",
   "execution_count": null,
   "metadata": {},
   "outputs": [],
   "source": []
  }
 ],
 "metadata": {
  "kernelspec": {
   "display_name": "Python 3",
   "language": "python",
   "name": "python3"
  },
  "language_info": {
   "codemirror_mode": {
    "name": "ipython",
    "version": 3
   },
   "file_extension": ".py",
   "mimetype": "text/x-python",
   "name": "python",
   "nbconvert_exporter": "python",
   "pygments_lexer": "ipython3",
   "version": "3.8.3"
  }
 },
 "nbformat": 4,
 "nbformat_minor": 4
}
